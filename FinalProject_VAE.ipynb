{
  "nbformat": 4,
  "nbformat_minor": 0,
  "metadata": {
    "colab": {
      "name": "FinalProject_VAE.ipynb",
      "provenance": [],
      "collapsed_sections": []
    },
    "kernelspec": {
      "name": "python3",
      "display_name": "Python 3"
    }
  },
  "cells": [
    {
      "cell_type": "markdown",
      "source": [
        "# Import libraries and files"
      ],
      "metadata": {
        "id": "2E9DsnlYupEZ"
      }
    },
    {
      "cell_type": "code",
      "metadata": {
        "id": "XCFgcbWh7rAX"
      },
      "source": [
        "import numpy as np\n",
        "import nibabel.processing as nibp\n",
        "import os\n",
        "import nibabel as nib"
      ],
      "execution_count": null,
      "outputs": []
    },
    {
      "cell_type": "code",
      "source": [
        "from google.colab import drive\n",
        "drive.mount('/content/gdrive')"
      ],
      "metadata": {
        "colab": {
          "base_uri": "https://localhost:8080/"
        },
        "id": "mgJJW-hVujSx",
        "outputId": "04b7471f-c0c2-4355-e8a5-cf654d61598a"
      },
      "execution_count": null,
      "outputs": [
        {
          "output_type": "stream",
          "name": "stdout",
          "text": [
            "Mounted at /content/gdrive\n"
          ]
        }
      ]
    },
    {
      "cell_type": "code",
      "source": [
        "!unzip gdrive/MyDrive/dataset/sub-01_T1w_preproc.nii.gz"
      ],
      "metadata": {
        "id": "HFrxjzjyu3ZO",
        "colab": {
          "base_uri": "https://localhost:8080/"
        },
        "outputId": "c8b328ee-2014-4b3c-a9cc-21cab7d42612"
      },
      "execution_count": null,
      "outputs": [
        {
          "output_type": "stream",
          "name": "stdout",
          "text": [
            "Archive:  gdrive/MyDrive/dataset/sub-01_T1w_preproc.nii.gz\n",
            "  End-of-central-directory signature not found.  Either this file is not\n",
            "  a zipfile, or it constitutes one disk of a multi-part archive.  In the\n",
            "  latter case the central directory and zipfile comment will be found on\n",
            "  the last disk(s) of this archive.\n",
            "unzip:  cannot find zipfile directory in one of gdrive/MyDrive/dataset/sub-01_T1w_preproc.nii.gz or\n",
            "        gdrive/MyDrive/dataset/sub-01_T1w_preproc.nii.gz.zip, and cannot find gdrive/MyDrive/dataset/sub-01_T1w_preproc.nii.gz.ZIP, period.\n"
          ]
        }
      ]
    },
    {
      "cell_type": "code",
      "source": [
        "!unzip gdrive/MyDrive/dataset/sub-01_T1w_class-GM_probtissue.nii.gz"
      ],
      "metadata": {
        "id": "__MpLFg22rWi",
        "colab": {
          "base_uri": "https://localhost:8080/"
        },
        "outputId": "d0cfc551-d1ec-4018-ed9c-60f04d596e7b"
      },
      "execution_count": null,
      "outputs": [
        {
          "output_type": "stream",
          "name": "stdout",
          "text": [
            "Archive:  gdrive/MyDrive/dataset/sub-01_T1w_class-GM_probtissue.nii.gz\n",
            "  End-of-central-directory signature not found.  Either this file is not\n",
            "  a zipfile, or it constitutes one disk of a multi-part archive.  In the\n",
            "  latter case the central directory and zipfile comment will be found on\n",
            "  the last disk(s) of this archive.\n",
            "unzip:  cannot find zipfile directory in one of gdrive/MyDrive/dataset/sub-01_T1w_class-GM_probtissue.nii.gz or\n",
            "        gdrive/MyDrive/dataset/sub-01_T1w_class-GM_probtissue.nii.gz.zip, and cannot find gdrive/MyDrive/dataset/sub-01_T1w_class-GM_probtissue.nii.gz.ZIP, period.\n"
          ]
        }
      ]
    },
    {
      "cell_type": "code",
      "source": [
        "!unzip gdrive/MyDrive/dataset/sub-01_T1w_class-WM_probtissue.nii.gz"
      ],
      "metadata": {
        "id": "6M_H3oJO4qCn",
        "colab": {
          "base_uri": "https://localhost:8080/"
        },
        "outputId": "21f0dcf8-1f99-4f0b-e808-54c3a04069df"
      },
      "execution_count": null,
      "outputs": [
        {
          "output_type": "stream",
          "name": "stdout",
          "text": [
            "Archive:  gdrive/MyDrive/dataset/sub-01_T1w_class-WM_probtissue.nii.gz\n",
            "  End-of-central-directory signature not found.  Either this file is not\n",
            "  a zipfile, or it constitutes one disk of a multi-part archive.  In the\n",
            "  latter case the central directory and zipfile comment will be found on\n",
            "  the last disk(s) of this archive.\n",
            "unzip:  cannot find zipfile directory in one of gdrive/MyDrive/dataset/sub-01_T1w_class-WM_probtissue.nii.gz or\n",
            "        gdrive/MyDrive/dataset/sub-01_T1w_class-WM_probtissue.nii.gz.zip, and cannot find gdrive/MyDrive/dataset/sub-01_T1w_class-WM_probtissue.nii.gz.ZIP, period.\n"
          ]
        }
      ]
    },
    {
      "cell_type": "code",
      "source": [
        "!unzip gdrive/MyDrive/dataset/sub-01_T1w_class-CSF_probtissue.nii.gz"
      ],
      "metadata": {
        "id": "MGGt-DB-4ylt",
        "colab": {
          "base_uri": "https://localhost:8080/"
        },
        "outputId": "66e1feb5-dcb0-437e-e3f7-de43398656e7"
      },
      "execution_count": null,
      "outputs": [
        {
          "output_type": "stream",
          "name": "stdout",
          "text": [
            "Archive:  gdrive/MyDrive/dataset/sub-01_T1w_class-CSF_probtissue.nii.gz\n",
            "  End-of-central-directory signature not found.  Either this file is not\n",
            "  a zipfile, or it constitutes one disk of a multi-part archive.  In the\n",
            "  latter case the central directory and zipfile comment will be found on\n",
            "  the last disk(s) of this archive.\n",
            "unzip:  cannot find zipfile directory in one of gdrive/MyDrive/dataset/sub-01_T1w_class-CSF_probtissue.nii.gz or\n",
            "        gdrive/MyDrive/dataset/sub-01_T1w_class-CSF_probtissue.nii.gz.zip, and cannot find gdrive/MyDrive/dataset/sub-01_T1w_class-CSF_probtissue.nii.gz.ZIP, period.\n"
          ]
        }
      ]
    },
    {
      "cell_type": "code",
      "source": [
        "!unzip gdrive/MyDrive/dataset/sub-01_ses-localizer_task-objectcategories_run-1_bold_space-T1w_preproc.nii.gz"
      ],
      "metadata": {
        "id": "jewfHN-i6zSL",
        "colab": {
          "base_uri": "https://localhost:8080/"
        },
        "outputId": "41dd89da-c7f3-4f2d-e604-f6f0b39ec39b"
      },
      "execution_count": null,
      "outputs": [
        {
          "output_type": "stream",
          "name": "stdout",
          "text": [
            "Archive:  gdrive/MyDrive/dataset/sub-01_ses-localizer_task-objectcategories_run-1_bold_space-T1w_preproc.nii.gz\n",
            "  End-of-central-directory signature not found.  Either this file is not\n",
            "  a zipfile, or it constitutes one disk of a multi-part archive.  In the\n",
            "  latter case the central directory and zipfile comment will be found on\n",
            "  the last disk(s) of this archive.\n",
            "unzip:  cannot find zipfile directory in one of gdrive/MyDrive/dataset/sub-01_ses-localizer_task-objectcategories_run-1_bold_space-T1w_preproc.nii.gz or\n",
            "        gdrive/MyDrive/dataset/sub-01_ses-localizer_task-objectcategories_run-1_bold_space-T1w_preproc.nii.gz.zip, and cannot find gdrive/MyDrive/dataset/sub-01_ses-localizer_task-objectcategories_run-1_bold_space-T1w_preproc.nii.gz.ZIP, period.\n"
          ]
        }
      ]
    },
    {
      "cell_type": "markdown",
      "metadata": {
        "id": "UueqkyHreYRK"
      },
      "source": [
        "# Make masks"
      ]
    },
    {
      "cell_type": "markdown",
      "metadata": {
        "id": "sCC7ff187yf8"
      },
      "source": [
        "Make gray matter mask"
      ]
    },
    {
      "cell_type": "markdown",
      "metadata": {
        "id": "Glo9SF-1ms6i"
      },
      "source": [
        ""
      ]
    },
    {
      "cell_type": "code",
      "metadata": {
        "id": "OCF87Yga-qnL"
      },
      "source": [
        "# load functional data\n",
        "#filepath_func = 'sub-01_task-sherlockPart1_space-MNI152NLin2009cAsym_desc-preproc_bold.nii.gz'\n",
        "#func = nib.load(filepath_func)\n",
        "#print(func.affine)"
      ],
      "execution_count": null,
      "outputs": []
    },
    {
      "cell_type": "code",
      "source": [
        "# load functional data\n",
        "filepath_func = 'gdrive/MyDrive/dataset/sub-01_ses-localizer_task-objectcategories_run-1_bold_space-T1w_preproc.nii.gz'\n",
        "func = nib.load(filepath_func)\n",
        "print(func)\n",
        "print(func.affine)"
      ],
      "metadata": {
        "id": "AFq42t4z6xoD",
        "colab": {
          "base_uri": "https://localhost:8080/"
        },
        "outputId": "9ffe6574-8c90-4a59-f39e-9cdc61651f1d"
      },
      "execution_count": null,
      "outputs": [
        {
          "output_type": "stream",
          "name": "stdout",
          "text": [
            "<class 'nibabel.nifti1.Nifti1Image'>\n",
            "data shape (49, 62, 48, 156)\n",
            "affine: \n",
            "[[  3.           0.           0.         -68.28421021]\n",
            " [  0.           3.           0.         -73.51255798]\n",
            " [  0.           0.           3.29999995 -80.62020111]\n",
            " [  0.           0.           0.           1.        ]]\n",
            "metadata:\n",
            "<class 'nibabel.nifti1.Nifti1Header'> object, endian='<'\n",
            "sizeof_hdr      : 348\n",
            "data_type       : b''\n",
            "db_name         : b''\n",
            "extents         : 0\n",
            "session_error   : 0\n",
            "regular         : b'r'\n",
            "dim_info        : 0\n",
            "dim             : [  4  49  62  48 156   1   1   1]\n",
            "intent_p1       : 0.0\n",
            "intent_p2       : 0.0\n",
            "intent_p3       : 0.0\n",
            "intent_code     : none\n",
            "datatype        : int16\n",
            "bitpix          : 16\n",
            "slice_start     : 0\n",
            "pixdim          : [1.        3.        3.        3.3       2.0000007 1.        1.\n",
            " 1.       ]\n",
            "vox_offset      : 0.0\n",
            "scl_slope       : nan\n",
            "scl_inter       : nan\n",
            "slice_end       : 0\n",
            "slice_code      : unknown\n",
            "xyzt_units      : 8\n",
            "cal_max         : 709.4388\n",
            "cal_min         : -83.836174\n",
            "slice_duration  : 0.0\n",
            "toffset         : 0.0\n",
            "glmax           : 0\n",
            "glmin           : 0\n",
            "descrip         : b'xform matrices modified by FixHeaderApplyTransforms (niworkflows v0.4.1).'\n",
            "aux_file        : b''\n",
            "qform_code      : aligned\n",
            "sform_code      : aligned\n",
            "quatern_b       : 0.0\n",
            "quatern_c       : 0.0\n",
            "quatern_d       : 0.0\n",
            "qoffset_x       : -68.28421\n",
            "qoffset_y       : -73.51256\n",
            "qoffset_z       : -80.6202\n",
            "srow_x          : [  3.        0.        0.      -68.28421]\n",
            "srow_y          : [  0.        3.        0.      -73.51256]\n",
            "srow_z          : [  0.       0.       3.3    -80.6202]\n",
            "intent_name     : b''\n",
            "magic           : b'n+1'\n",
            "[[  3.           0.           0.         -68.28421021]\n",
            " [  0.           3.           0.         -73.51255798]\n",
            " [  0.           0.           3.29999995 -80.62020111]\n",
            " [  0.           0.           0.           1.        ]]\n"
          ]
        }
      ]
    },
    {
      "cell_type": "code",
      "source": [
        "# load functional data\n",
        "filepath_anat = 'gdrive/MyDrive/dataset/sub-01_T1w_preproc.nii.gz'\n",
        "anat = nib.load(filepath_anat)\n",
        "print(anat.shape)\n",
        "#print(func.affine)"
      ],
      "metadata": {
        "id": "vTzUo3jLry9q",
        "colab": {
          "base_uri": "https://localhost:8080/"
        },
        "outputId": "02572286-96aa-4d77-e496-8fd28fad740c"
      },
      "execution_count": null,
      "outputs": [
        {
          "output_type": "stream",
          "name": "stdout",
          "text": [
            "(274, 384, 384)\n"
          ]
        }
      ]
    },
    {
      "cell_type": "code",
      "source": [
        "import matplotlib.pyplot as plt\n",
        "def show_slices(slices):\n",
        "   \"\"\" Function to display row of image slices \"\"\"\n",
        "   fig, axes = plt.subplots(1, len(slices))\n",
        "   for i, slice in enumerate(slices):\n",
        "       axes[i].imshow(slice.T, cmap=\"gray\", origin=\"lower\")\n",
        "\n",
        "#print(func.get_fdata()[0,:,:])\n",
        "#show_slices([func.get_fdata()[140, :, :],\n",
        "#             func.get_fdata()[:, 140, :],\n",
        "#             func.get_fdata()[:, :, 140]])"
      ],
      "metadata": {
        "id": "zKS9wiHQ1CyB"
      },
      "execution_count": null,
      "outputs": []
    },
    {
      "cell_type": "code",
      "source": [
        "show_slices([func.get_fdata()[24, :, :, 0],\n",
        "             func.get_fdata()[:, 24, :, 0],\n",
        "             func.get_fdata()[:, :, 24, 0]])"
      ],
      "metadata": {
        "id": "ukj1Wax_7Erf",
        "colab": {
          "base_uri": "https://localhost:8080/",
          "height": 173
        },
        "outputId": "bd0f7419-8f14-49a9-a353-c761907ab043"
      },
      "execution_count": null,
      "outputs": [
        {
          "output_type": "display_data",
          "data": {
            "text/plain": [
              "<Figure size 432x288 with 3 Axes>"
            ],
            "image/png": "[encoded data removed]"
          },
          "metadata": {
            "needs_background": "light"
          }
        }
      ]
    },
    {
      "cell_type": "code",
      "metadata": {
        "id": "Ws8zX6qR7yLf"
      },
      "source": [
        "## load gray matter\n",
        "#filepath_gm = './sub-01_space-MNI152NLin2009cAsym_label-GM_probseg.nii.gz'\n",
        "#gm = nib.load(filepath_gm)\n",
        "#print(gm.affine)"
      ],
      "execution_count": null,
      "outputs": []
    },
    {
      "cell_type": "code",
      "source": [
        "# load gray matter\n",
        "filepath_gm = 'gdrive/MyDrive/dataset/sub-01_T1w_class-GM_probtissue.nii.gz'\n",
        "gm = nib.load(filepath_gm)\n",
        "print(gm.affine)\n",
        "print(gm.shape)"
      ],
      "metadata": {
        "id": "5weDRYUf26vb",
        "colab": {
          "base_uri": "https://localhost:8080/"
        },
        "outputId": "eef03278-9040-43fa-875e-61c7df5029d4"
      },
      "execution_count": null,
      "outputs": [
        {
          "output_type": "stream",
          "name": "stdout",
          "text": [
            "[[ 6.93359315e-01  4.50425558e-02  7.98166469e-02 -1.16284210e+02]\n",
            " [-3.23181227e-02  6.55866504e-01 -1.15482718e-01 -6.84598312e+01]\n",
            " [-9.06430706e-02  1.10701263e-01  6.51718795e-01 -1.61474640e+02]\n",
            " [ 0.00000000e+00  0.00000000e+00  0.00000000e+00  1.00000000e+00]]\n",
            "(274, 384, 384)\n"
          ]
        }
      ]
    },
    {
      "cell_type": "code",
      "source": [
        "show_slices([gm.get_fdata()[140, :, :],\n",
        "             gm.get_fdata()[:, 140, :],\n",
        "             gm.get_fdata()[:, :, 140]])"
      ],
      "metadata": {
        "id": "0-nL9asZ3I7b",
        "colab": {
          "base_uri": "https://localhost:8080/",
          "height": 186
        },
        "outputId": "d6b2a751-f9fb-4184-fe41-93b4df592a66"
      },
      "execution_count": null,
      "outputs": [
        {
          "output_type": "display_data",
          "data": {
            "text/plain": [
              "<Figure size 432x288 with 3 Axes>"
            ],
            "image/png": "[encoded data removed]"
          },
          "metadata": {
            "needs_background": "light"
          }
        }
      ]
    },
    {
      "cell_type": "code",
      "metadata": {
        "id": "K0chqTPG9lRs",
        "colab": {
          "base_uri": "https://localhost:8080/"
        },
        "outputId": "e068311b-0548-4cb0-b327-4f9fab3cba68"
      },
      "source": [
        "# resize gray matter\n",
        "func0 = func.slicer[:,:,:,0]\n",
        "gm_funcSize=nibp.resample_from_to(gm, func0)\n",
        "print(gm_funcSize.affine)"
      ],
      "execution_count": null,
      "outputs": [
        {
          "output_type": "stream",
          "name": "stdout",
          "text": [
            "[[  3.           0.           0.         -68.28421021]\n",
            " [  0.           3.           0.         -73.51255798]\n",
            " [  0.           0.           3.29999995 -80.62020111]\n",
            " [  0.           0.           0.           1.        ]]\n"
          ]
        }
      ]
    },
    {
      "cell_type": "code",
      "metadata": {
        "id": "2-1K5vUzAZwp"
      },
      "source": [
        "# discretize gray matter\n",
        "gm_values = gm_funcSize.get_fdata()\n",
        "gm_mask = (gm_values>0.1)"
      ],
      "execution_count": null,
      "outputs": []
    },
    {
      "cell_type": "code",
      "source": [
        "show_slices([gm_mask[24, :, :],\n",
        "             gm_mask[:, 24, :],\n",
        "             gm_mask[:, :, 24]])"
      ],
      "metadata": {
        "id": "Wx98Djt6317o",
        "colab": {
          "base_uri": "https://localhost:8080/",
          "height": 173
        },
        "outputId": "c6d9c59c-91c9-4d56-ceb9-869f296d4db8"
      },
      "execution_count": null,
      "outputs": [
        {
          "output_type": "display_data",
          "data": {
            "text/plain": [
              "<Figure size 432x288 with 3 Axes>"
            ],
            "image/png": "[encoded data removed]"
          },
          "metadata": {
            "needs_background": "light"
          }
        }
      ]
    },
    {
      "cell_type": "markdown",
      "metadata": {
        "id": "e3ErpbNjc7mi"
      },
      "source": [
        "Make mask for regions of no interest (\"confounds mask\")"
      ]
    },
    {
      "cell_type": "code",
      "metadata": {
        "id": "_N31qyUiWOIX"
      },
      "source": [
        "# load white matter and csf\n",
        "#filepath_wm = 'sub-01_space-MNI152NLin2009cAsym_label-WM_probseg.nii.gz'\n",
        "#wm = nib.load(filepath_wm)\n",
        "#print(wm.affine)\n",
        "#filepath_csf = 'sub-01_space-MNI152NLin2009cAsym_label-CSF_probseg.nii.gz'\n",
        "#csf = nib.load(filepath_csf)\n",
        "#print(csf.affine)"
      ],
      "execution_count": null,
      "outputs": []
    },
    {
      "cell_type": "code",
      "source": [
        "# load white matter and csf\n",
        "filepath_wm = 'gdrive/MyDrive/dataset/sub-01_T1w_class-WM_probtissue.nii.gz'\n",
        "wm = nib.load(filepath_wm)\n",
        "print(wm.affine)\n",
        "filepath_csf = 'gdrive/MyDrive/dataset/sub-01_T1w_class-CSF_probtissue.nii.gz'\n",
        "csf = nib.load(filepath_csf)\n",
        "print(csf.affine)"
      ],
      "metadata": {
        "id": "GlzeeuJg4_0z",
        "colab": {
          "base_uri": "https://localhost:8080/"
        },
        "outputId": "745ac467-0f18-4d46-b822-5b3f87cce9e3"
      },
      "execution_count": null,
      "outputs": [
        {
          "output_type": "stream",
          "name": "stdout",
          "text": [
            "[[ 6.93359315e-01  4.50425558e-02  7.98166469e-02 -1.16284210e+02]\n",
            " [-3.23181227e-02  6.55866504e-01 -1.15482718e-01 -6.84598312e+01]\n",
            " [-9.06430706e-02  1.10701263e-01  6.51718795e-01 -1.61474640e+02]\n",
            " [ 0.00000000e+00  0.00000000e+00  0.00000000e+00  1.00000000e+00]]\n",
            "[[ 6.93359315e-01  4.50425558e-02  7.98166469e-02 -1.16284210e+02]\n",
            " [-3.23181227e-02  6.55866504e-01 -1.15482718e-01 -6.84598312e+01]\n",
            " [-9.06430706e-02  1.10701263e-01  6.51718795e-01 -1.61474640e+02]\n",
            " [ 0.00000000e+00  0.00000000e+00  0.00000000e+00  1.00000000e+00]]\n"
          ]
        }
      ]
    },
    {
      "cell_type": "code",
      "metadata": {
        "id": "CeUxcrracj_L",
        "colab": {
          "base_uri": "https://localhost:8080/"
        },
        "outputId": "2c477124-72e6-4b4a-87b7-f742d4553c90"
      },
      "source": [
        "# resize white matter and csf\n",
        "wm_funcSize=nibp.resample_from_to(wm, func0)\n",
        "print(wm_funcSize.affine)\n",
        "csf_funcSize=nibp.resample_from_to(csf, func0)\n",
        "print(csf_funcSize.affine)"
      ],
      "execution_count": null,
      "outputs": [
        {
          "output_type": "stream",
          "name": "stdout",
          "text": [
            "[[  3.           0.           0.         -68.28421021]\n",
            " [  0.           3.           0.         -73.51255798]\n",
            " [  0.           0.           3.29999995 -80.62020111]\n",
            " [  0.           0.           0.           1.        ]]\n",
            "[[  3.           0.           0.         -68.28421021]\n",
            " [  0.           3.           0.         -73.51255798]\n",
            " [  0.           0.           3.29999995 -80.62020111]\n",
            " [  0.           0.           0.           1.        ]]\n"
          ]
        }
      ]
    },
    {
      "cell_type": "code",
      "metadata": {
        "id": "MgSLQQFfcyeQ"
      },
      "source": [
        "# discretize white matter and csf and make confounds mask\n",
        "wm_values = wm_funcSize.get_fdata()\n",
        "csf_values = csf_funcSize.get_fdata()\n",
        "confounds_values = (wm_values+csf_values)/2\n",
        "confounds_mask = (confounds_values>0.1)"
      ],
      "execution_count": null,
      "outputs": []
    },
    {
      "cell_type": "code",
      "source": [
        "show_slices([confounds_mask[24, :, :],\n",
        "             confounds_mask[:, 24, :],\n",
        "             confounds_mask[:, :, 24]])"
      ],
      "metadata": {
        "id": "AA2TD1616Nvs",
        "colab": {
          "base_uri": "https://localhost:8080/",
          "height": 173
        },
        "outputId": "6e21e6af-9311-45ca-feca-06d3a21d0f22"
      },
      "execution_count": null,
      "outputs": [
        {
          "output_type": "display_data",
          "data": {
            "text/plain": [
              "<Figure size 432x288 with 3 Axes>"
            ],
            "image/png": "[encoded data removed]"
          },
          "metadata": {
            "needs_background": "light"
          }
        }
      ]
    },
    {
      "cell_type": "markdown",
      "metadata": {
        "id": "eFHz-NZdeelD"
      },
      "source": [
        "# Extract functional data"
      ]
    },
    {
      "cell_type": "code",
      "metadata": {
        "id": "8fQ3RZsdejly",
        "colab": {
          "base_uri": "https://localhost:8080/"
        },
        "outputId": "383f513d-48d5-47b5-9692-d604d2a0d4a0"
      },
      "source": [
        "# Extract functional data from masks\n",
        "func_values = func.get_fdata()\n",
        "func_reshaped = np.reshape(func_values,[func.shape[0]*func.shape[1]*func.shape[2],func.shape[3]])\n",
        "gm_reshaped = np.reshape(gm_mask,-1)\n",
        "confounds_mask_reshaped = np.reshape(confounds_mask,-1)\n",
        "diff = gm_reshaped & confounds_mask_reshaped\n",
        "gm_reshaped_c = gm_reshaped ^ diff\n",
        "confounds_mask_reshaped_c = confounds_mask_reshaped ^ diff\n",
        "func_gm = func_reshaped[gm_reshaped_c,:] # these are the functional data in gray matter\n",
        "func_confounds = func_reshaped[confounds_mask_reshaped_c,:] # these are the functional data in the regions of no interest\n",
        "print(func_gm.shape)\n",
        "print(func_confounds.shape)"
      ],
      "execution_count": null,
      "outputs": [
        {
          "output_type": "stream",
          "name": "stdout",
          "text": [
            "(19734, 156)\n",
            "(22686, 156)\n"
          ]
        }
      ]
    },
    {
      "cell_type": "code",
      "source": [
        "print(func_values.shape)\n",
        "print(func.shape[0],func.shape[1],func.shape[2],func.shape[3])"
      ],
      "metadata": {
        "colab": {
          "base_uri": "https://localhost:8080/"
        },
        "id": "Yjp5A8KwgWLb",
        "outputId": "1e201b62-e669-41ac-b135-7d33fda1b21c"
      },
      "execution_count": null,
      "outputs": [
        {
          "output_type": "stream",
          "name": "stdout",
          "text": [
            "(49, 62, 48, 156)\n",
            "49 62 48 156\n"
          ]
        }
      ]
    },
    {
      "cell_type": "markdown",
      "metadata": {
        "id": "SitAi9lD4e0_"
      },
      "source": [
        "# cVAE model"
      ]
    },
    {
      "cell_type": "code",
      "source": [
        "from typing import List, Callable, Union, Any, TypeVar, Tuple\n",
        "# from torch import tensor as Tensor\n",
        "\n",
        "Tensor = TypeVar('torch.tensor')"
      ],
      "metadata": {
        "id": "rlvdYCKCE9qs"
      },
      "execution_count": null,
      "outputs": []
    },
    {
      "cell_type": "code",
      "source": [
        "import torch\n",
        "from torch import nn\n",
        "from torch.nn import functional as F\n",
        "\n",
        "class VanillaVAE(nn.Module):\n",
        "\n",
        "\n",
        "    def __init__(self,in_channels: int,latent_dim: int,hidden_dims: List = None) -> None:\n",
        "        super(VanillaVAE, self).__init__()\n",
        "\n",
        "        self.latent_dim = latent_dim\n",
        "\n",
        "        modules = []\n",
        "        if hidden_dims is None:\n",
        "            hidden_dims = [32, 64, 128, 128]\n",
        "\n",
        "        # Build Encoder\n",
        "        for h_dim in hidden_dims:\n",
        "            modules.append(\n",
        "                nn.Sequential(\n",
        "                    nn.Conv1d(in_channels, out_channels=h_dim,\n",
        "                              kernel_size= 3, stride= 2, padding  = 1),\n",
        "                    nn.BatchNorm1d(h_dim),\n",
        "                    nn.LeakyReLU())\n",
        "            )\n",
        "            in_channels = h_dim\n",
        "\n",
        "        self.encoder = nn.Sequential(*modules)\n",
        "        self.fc_mu = nn.Linear(hidden_dims[-1]*10, latent_dim)\n",
        "        self.fc_var = nn.Linear(hidden_dims[-1]*10, latent_dim)\n",
        "\n",
        "        # Build Decoder\n",
        "        modules = []\n",
        "\n",
        "        self.decoder_input = nn.Linear(latent_dim, hidden_dims[-1] * 10)\n",
        "\n",
        "        hidden_dims.reverse()\n",
        "\n",
        "        for i in range(1, (len(hidden_dims) - 1)):\n",
        "            if i//2==0:\n",
        "                modules.append(\n",
        "                    nn.Sequential(\n",
        "                        nn.ConvTranspose1d(hidden_dims[i],\n",
        "                                       hidden_dims[i + 1],\n",
        "                                       kernel_size=3,\n",
        "                                       stride = 2,\n",
        "                                       padding=1,\n",
        "                                       output_padding=1),\n",
        "                        nn.BatchNorm1d(hidden_dims[i + 1]),\n",
        "                        nn.LeakyReLU())\n",
        "                )\n",
        "            else:\n",
        "                modules.append(\n",
        "                    nn.Sequential(\n",
        "                        nn.ConvTranspose1d(hidden_dims[i],\n",
        "                                       hidden_dims[i + 1],\n",
        "                                       kernel_size=3,\n",
        "                                       stride = 2,\n",
        "                                       padding=1,\n",
        "                                       output_padding=0),\n",
        "                        nn.BatchNorm1d(hidden_dims[i + 1]),\n",
        "                        nn.LeakyReLU())\n",
        "                )\n",
        "\n",
        "\n",
        "\n",
        "        self.decoder = nn.Sequential(*modules)\n",
        "\n",
        "        self.final_layer = nn.Sequential(\n",
        "                            nn.ConvTranspose1d(hidden_dims[-1],\n",
        "                                               hidden_dims[-1],\n",
        "                                               kernel_size=3,\n",
        "                                               stride=2,\n",
        "                                               padding=1,\n",
        "                                               output_padding=1),\n",
        "                            nn.BatchNorm1d(hidden_dims[-1]),\n",
        "                            nn.LeakyReLU(),\n",
        "                            nn.Conv1d(hidden_dims[-1], out_channels= 1,\n",
        "                                      kernel_size= 3, padding= 0),\n",
        "                            nn.Tanh())\n",
        "           #out_channels\n",
        "\n",
        "    def encode(self, input: Tensor) -> List[Tensor]:\n",
        "        \"\"\"\n",
        "        Encodes the input by passing through the encoder network\n",
        "        and returns the latent codes.\n",
        "        :param input: (Tensor) Input tensor to encoder [N x C x H x W]\n",
        "        :return: (Tensor) List of latent codes\n",
        "        \"\"\"\n",
        "        result = self.encoder(input)\n",
        "        result = torch.flatten(result, start_dim=1)\n",
        "\n",
        "        # Split the result into mu and var components\n",
        "        # of the latent Gaussian distribution\n",
        "        mu = self.fc_mu(result)\n",
        "        log_var = self.fc_var(result)\n",
        "\n",
        "        return [mu, log_var]\n",
        "\n",
        "    def decode(self, z: Tensor) -> Tensor:\n",
        "        \"\"\"\n",
        "        Maps the given latent codes\n",
        "        onto the image space.\n",
        "        :param z: (Tensor) [B x D]\n",
        "        :return: (Tensor) [B x C x H x W]\n",
        "        \"\"\"\n",
        "        result = self.decoder_input(z)\n",
        "        result = result.view(-1,128,20)\n",
        "        result = self.decoder(result)\n",
        "        result = self.final_layer(result)\n",
        "        return result\n",
        "\n",
        "    def reparameterize(self, mu: Tensor, logvar: Tensor) -> Tensor:\n",
        "        \"\"\"\n",
        "        Reparameterization trick to sample from N(mu, var) from\n",
        "        N(0,1).\n",
        "        :param mu: (Tensor) Mean of the latent Gaussian [B x D]\n",
        "        :param logvar: (Tensor) Standard deviation of the latent Gaussian [B x D]\n",
        "        :return: (Tensor) [B x D]\n",
        "        \"\"\"\n",
        "        std = torch.exp(0.5 * logvar)\n",
        "        eps = torch.randn_like(std)\n",
        "        return eps * std + mu\n",
        "\n",
        "    def forward(self, input_z: Tensor, input_s: Tensor) -> List[Tensor]:\n",
        "        mu_z, log_var_z = self.encode(input_z)\n",
        "        mu_s, log_var_s = self.encode(input_s)\n",
        "        z = self.reparameterize(mu, log_var)\n",
        "        return  [self.decode(z), input, mu, log_var]\n",
        "\n",
        "    def loss_function(self,\n",
        "                      *args,\n",
        "                      ) -> dict:\n",
        "        \"\"\"\n",
        "        Computes the VAE loss function.\n",
        "        KL(N(\\mu, \\sigma), N(0, 1)) = \\log \\frac{1}{\\sigma} + \\frac{\\sigma^2 + \\mu^2}{2} - \\frac{1}{2}\n",
        "        :param args:\n",
        "        :param kwargs:\n",
        "        :return:\n",
        "        \"\"\"\n",
        "        recons = args[0]\n",
        "        input = args[1]\n",
        "        mu = args[2]\n",
        "        log_var = args[3]\n",
        "\n",
        "        #kld_weight = kwargs['M_N'] # Account for the minibatch samples from the dataset\n",
        "        recons_loss =F.mse_loss(recons, input)\n",
        "\n",
        "\n",
        "        kld_loss = torch.mean(-0.5 * torch.sum(1 + log_var - mu ** 2 - log_var.exp(), dim = 1), dim = 0)\n",
        "\n",
        "        loss = recons_loss + kld_loss\n",
        "        return {'loss': loss, 'Reconstruction_Loss':recons_loss.detach(), 'KLD':-kld_loss.detach()}\n",
        "\n",
        "    def sample(self,\n",
        "               num_samples:int,\n",
        "               current_device: int) -> Tensor:\n",
        "        \"\"\"\n",
        "        Samples from the latent space and return the corresponding\n",
        "        image space map.\n",
        "        :param num_samples: (Int) Number of samples\n",
        "        :param current_device: (Int) Device to run the model\n",
        "        :return: (Tensor)\n",
        "        \"\"\"\n",
        "        z = torch.randn(num_samples,\n",
        "                        self.latent_dim)\n",
        "\n",
        "        z = z.to(current_device)\n",
        "\n",
        "        samples = self.decode(z)\n",
        "        return samples\n",
        "\n",
        "    def generate(self, x: Tensor) -> Tensor:\n",
        "        \"\"\"\n",
        "        Given an input image x, returns the reconstructed image\n",
        "        :param x: (Tensor) [B x C x H x W]\n",
        "        :return: (Tensor) [B x C x H x W]\n",
        "        \"\"\"\n",
        "\n",
        "        return self.forward(x)[0]"
      ],
      "metadata": {
        "id": "qCxdNdHRluhw"
      },
      "execution_count": null,
      "outputs": []
    },
    {
      "cell_type": "code",
      "source": [
        "model = VanillaVAE(1,1280)"
      ],
      "metadata": {
        "id": "RD7Ng24PFvdF"
      },
      "execution_count": null,
      "outputs": []
    },
    {
      "cell_type": "code",
      "source": [
        "model"
      ],
      "metadata": {
        "colab": {
          "base_uri": "https://localhost:8080/"
        },
        "id": "MFUKGHnnF1vr",
        "outputId": "f3f47db8-1144-47c9-8340-ebe0d0130eec"
      },
      "execution_count": null,
      "outputs": [
        {
          "output_type": "execute_result",
          "data": {
            "text/plain": [
              "VanillaVAE(\n",
              "  (encoder): Sequential(\n",
              "    (0): Sequential(\n",
              "      (0): Conv1d(1, 32, kernel_size=(3,), stride=(2,), padding=(1,))\n",
              "      (1): BatchNorm1d(32, eps=1e-05, momentum=0.1, affine=True, track_running_stats=True)\n",
              "      (2): LeakyReLU(negative_slope=0.01)\n",
              "    )\n",
              "    (1): Sequential(\n",
              "      (0): Conv1d(32, 64, kernel_size=(3,), stride=(2,), padding=(1,))\n",
              "      (1): BatchNorm1d(64, eps=1e-05, momentum=0.1, affine=True, track_running_stats=True)\n",
              "      (2): LeakyReLU(negative_slope=0.01)\n",
              "    )\n",
              "    (2): Sequential(\n",
              "      (0): Conv1d(64, 128, kernel_size=(3,), stride=(2,), padding=(1,))\n",
              "      (1): BatchNorm1d(128, eps=1e-05, momentum=0.1, affine=True, track_running_stats=True)\n",
              "      (2): LeakyReLU(negative_slope=0.01)\n",
              "    )\n",
              "    (3): Sequential(\n",
              "      (0): Conv1d(128, 128, kernel_size=(3,), stride=(2,), padding=(1,))\n",
              "      (1): BatchNorm1d(128, eps=1e-05, momentum=0.1, affine=True, track_running_stats=True)\n",
              "      (2): LeakyReLU(negative_slope=0.01)\n",
              "    )\n",
              "  )\n",
              "  (fc_mu): Linear(in_features=1280, out_features=1280, bias=True)\n",
              "  (fc_var): Linear(in_features=1280, out_features=1280, bias=True)\n",
              "  (decoder_input): Linear(in_features=2560, out_features=1280, bias=True)\n",
              "  (decoder): Sequential(\n",
              "    (0): Sequential(\n",
              "      (0): ConvTranspose1d(128, 64, kernel_size=(3,), stride=(2,), padding=(1,), output_padding=(1,))\n",
              "      (1): BatchNorm1d(64, eps=1e-05, momentum=0.1, affine=True, track_running_stats=True)\n",
              "      (2): LeakyReLU(negative_slope=0.01)\n",
              "    )\n",
              "    (1): Sequential(\n",
              "      (0): ConvTranspose1d(64, 32, kernel_size=(3,), stride=(2,), padding=(1,))\n",
              "      (1): BatchNorm1d(32, eps=1e-05, momentum=0.1, affine=True, track_running_stats=True)\n",
              "      (2): LeakyReLU(negative_slope=0.01)\n",
              "    )\n",
              "  )\n",
              "  (final_layer): Sequential(\n",
              "    (0): ConvTranspose1d(32, 32, kernel_size=(3,), stride=(2,), padding=(1,), output_padding=(1,))\n",
              "    (1): BatchNorm1d(32, eps=1e-05, momentum=0.1, affine=True, track_running_stats=True)\n",
              "    (2): LeakyReLU(negative_slope=0.01)\n",
              "    (3): Conv1d(32, 1, kernel_size=(3,), stride=(1,))\n",
              "    (4): Tanh()\n",
              "  )\n",
              ")"
            ]
          },
          "metadata": {},
          "execution_count": 23
        }
      ]
    },
    {
      "cell_type": "code",
      "source": [
        "# optimizer\n",
        "import torch.optim as optim\n",
        "optimizer = optim.SGD(model.parameters(), lr=0.01)"
      ],
      "metadata": {
        "id": "2U81eLB2I8mZ"
      },
      "execution_count": null,
      "outputs": []
    },
    {
      "cell_type": "code",
      "source": [
        "# data split\n",
        "#from sklearn.model_selection import train_test_split\n",
        "#training, remaining = train_test_split(func_gm, test_size=0.4, random_state=42)\n",
        "#validating, testing = train_test_split(remaining, test_size=0.5, random_state=42)"
      ],
      "metadata": {
        "id": "bm8xjU5DG2YU"
      },
      "execution_count": null,
      "outputs": []
    },
    {
      "cell_type": "code",
      "source": [
        "# dataloading \n",
        "train_dataloader = torch.utils.data.DataLoader(func_gm, batch_size=64,\n",
        "                                             shuffle=True, num_workers=1)\n",
        "#val_dataloader = torch.utils.data.DataLoader(validating, batch_size=64,\n",
        "#                                             shuffle=True, num_workers=1)\n",
        "#test_dataloader = torch.utils.data.DataLoader(testing, batch_size=64,\n",
        "#                                             shuffle=True, num_workers=1)"
      ],
      "metadata": {
        "id": "MlBi5AgyFCJh"
      },
      "execution_count": null,
      "outputs": []
    },
    {
      "cell_type": "code",
      "source": [
        "for data in train_dataloader:\n",
        "  #print(data.shape)\n",
        "  inputs = data.unsqueeze(1)\n",
        "  inputs = inputs.double()\n",
        "  #print(inputs.shape)"
      ],
      "metadata": {
        "id": "3RW0aFZaS9V5"
      },
      "execution_count": null,
      "outputs": []
    },
    {
      "cell_type": "code",
      "source": [
        "device = torch.device('cuda:0' if torch.cuda.is_available() else 'cpu')\n",
        "model.to(device)\n",
        "train_image = []\n",
        "\n",
        "for epoch in range(5):  # loop over the dataset multiple times\n",
        "    print('Epoch {}/{}'.format(epoch, 4))\n",
        "    print('-' * 10)\n",
        "\n",
        "    running_loss = 0.0\n",
        "    reconstruction_loss = 0.0\n",
        "    running_KLD = 0.0\n",
        "    running_corrects = 0\n",
        "    val_loss = 0.0\n",
        "    val_reconstruction_loss = 0.0\n",
        "    val_KLD = 0.0\n",
        "    val_corrects = 0\n",
        "\n",
        "    # Iterate over data.\n",
        "    for data in train_dataloader:\n",
        "\n",
        "        inputs = data.unsqueeze(1).float()\n",
        "        inputs = inputs.to(device)\n",
        "\n",
        "        # zero the parameter gradients\n",
        "        optimizer.zero_grad()\n",
        "\n",
        "        # encoder + decoder\n",
        "        [outputs, _, mu, log_var] = model(inputs)\n",
        "        _, preds = torch.max(outputs, 1)\n",
        "        #print(preds)\n",
        "        loss = model.loss_function(outputs, inputs, mu, log_var)\n",
        "\n",
        "        # backward + optimize\n",
        "        loss['loss'].backward()\n",
        "        optimizer.step()\n",
        "\n",
        "        # print statistics\n",
        "        running_loss += loss['loss']\n",
        "        reconstruction_loss += loss['Reconstruction_Loss']\n",
        "        running_KLD += loss['KLD']\n",
        "        #running_corrects += torch.sum(preds == labels.squeeze())\n",
        "        #running_corrects += (preds == labels).float().sum()\n",
        "        #print(running_loss)\n",
        "        #print(reconstruction_loss)\n",
        "        #print(KLD)\n",
        "        #print(running_corrects)\n",
        "        if epoch == 4:\n",
        "            train_image.append([data,outputs,loss])\n",
        "    epoch_loss = running_loss / func_gm.shape[0]\n",
        "    epoch_reconstruction_loss = reconstruction_loss / func_gm.shape[0]\n",
        "    epoch_KLD = running_KLD / func_gm.shape[0]\n",
        "    #epoch_val_loss = val_loss / validating.shape[0]\n",
        "    #epoch_val_reconstruction_loss = val_reconstruction_loss / validating.shape[0]\n",
        "    #epoch_val_KLD = val_KLD / validating.shape[0]\n",
        "    #epoch_acc = running_corrects.float() / training.shape[0]\n",
        "    print('Training Loss: {:.4f} Training Reconstruction Loss: {:.4f} Training KLD {:.4f}'.format(epoch_loss, epoch_reconstruction_loss, epoch_KLD))\n",
        "    #print('Val Loss: {:.4f} Val Reconstruction Loss: {:.4f} Val KLD {:.4f}'.format(epoch_val_loss, epoch_val_reconstruction_loss, epoch_val_KLD))\n",
        "    print('')\n",
        "    print()\n",
        "\n",
        "print('Finished Training')"
      ],
      "metadata": {
        "colab": {
          "base_uri": "https://localhost:8080/",
          "height": 418
        },
        "id": "TjHyJxnbGxnq",
        "outputId": "d6a4e4c6-9a2e-4b4b-ab92-8feeef79aac2"
      },
      "execution_count": null,
      "outputs": [
        {
          "output_type": "stream",
          "name": "stdout",
          "text": [
            "Epoch 0/4\n",
            "----------\n"
          ]
        },
        {
          "output_type": "error",
          "ename": "TypeError",
          "evalue": "ignored",
          "traceback": [
            "\u001b[0;31m---------------------------------------------------------------------------\u001b[0m",
            "\u001b[0;31mTypeError\u001b[0m                                 Traceback (most recent call last)",
            "\u001b[0;32m<ipython-input-27-3e3dd8201eae>\u001b[0m in \u001b[0;36m<module>\u001b[0;34m()\u001b[0m\n\u001b[1;32m     26\u001b[0m \u001b[0;34m\u001b[0m\u001b[0m\n\u001b[1;32m     27\u001b[0m         \u001b[0;31m# encoder + decoder\u001b[0m\u001b[0;34m\u001b[0m\u001b[0;34m\u001b[0m\u001b[0;34m\u001b[0m\u001b[0m\n\u001b[0;32m---> 28\u001b[0;31m         \u001b[0;34m[\u001b[0m\u001b[0moutputs\u001b[0m\u001b[0;34m,\u001b[0m \u001b[0m_\u001b[0m\u001b[0;34m,\u001b[0m \u001b[0mmu\u001b[0m\u001b[0;34m,\u001b[0m \u001b[0mlog_var\u001b[0m\u001b[0;34m]\u001b[0m \u001b[0;34m=\u001b[0m \u001b[0mmodel\u001b[0m\u001b[0;34m(\u001b[0m\u001b[0minputs\u001b[0m\u001b[0;34m)\u001b[0m\u001b[0;34m\u001b[0m\u001b[0;34m\u001b[0m\u001b[0m\n\u001b[0m\u001b[1;32m     29\u001b[0m         \u001b[0m_\u001b[0m\u001b[0;34m,\u001b[0m \u001b[0mpreds\u001b[0m \u001b[0;34m=\u001b[0m \u001b[0mtorch\u001b[0m\u001b[0;34m.\u001b[0m\u001b[0mmax\u001b[0m\u001b[0;34m(\u001b[0m\u001b[0moutputs\u001b[0m\u001b[0;34m,\u001b[0m \u001b[0;36m1\u001b[0m\u001b[0;34m)\u001b[0m\u001b[0;34m\u001b[0m\u001b[0;34m\u001b[0m\u001b[0m\n\u001b[1;32m     30\u001b[0m         \u001b[0;31m#print(preds)\u001b[0m\u001b[0;34m\u001b[0m\u001b[0;34m\u001b[0m\u001b[0;34m\u001b[0m\u001b[0m\n",
            "\u001b[0;32m/usr/local/lib/python3.7/dist-packages/torch/nn/modules/module.py\u001b[0m in \u001b[0;36m_call_impl\u001b[0;34m(self, *input, **kwargs)\u001b[0m\n\u001b[1;32m   1108\u001b[0m         if not (self._backward_hooks or self._forward_hooks or self._forward_pre_hooks or _global_backward_hooks\n\u001b[1;32m   1109\u001b[0m                 or _global_forward_hooks or _global_forward_pre_hooks):\n\u001b[0;32m-> 1110\u001b[0;31m             \u001b[0;32mreturn\u001b[0m \u001b[0mforward_call\u001b[0m\u001b[0;34m(\u001b[0m\u001b[0;34m*\u001b[0m\u001b[0minput\u001b[0m\u001b[0;34m,\u001b[0m \u001b[0;34m**\u001b[0m\u001b[0mkwargs\u001b[0m\u001b[0;34m)\u001b[0m\u001b[0;34m\u001b[0m\u001b[0;34m\u001b[0m\u001b[0m\n\u001b[0m\u001b[1;32m   1111\u001b[0m         \u001b[0;31m# Do not call functions when jit is used\u001b[0m\u001b[0;34m\u001b[0m\u001b[0;34m\u001b[0m\u001b[0;34m\u001b[0m\u001b[0m\n\u001b[1;32m   1112\u001b[0m         \u001b[0mfull_backward_hooks\u001b[0m\u001b[0;34m,\u001b[0m \u001b[0mnon_full_backward_hooks\u001b[0m \u001b[0;34m=\u001b[0m \u001b[0;34m[\u001b[0m\u001b[0;34m]\u001b[0m\u001b[0;34m,\u001b[0m \u001b[0;34m[\u001b[0m\u001b[0;34m]\u001b[0m\u001b[0;34m\u001b[0m\u001b[0;34m\u001b[0m\u001b[0m\n",
            "\u001b[0;31mTypeError\u001b[0m: forward() missing 1 required positional argument: 'input_s'"
          ]
        }
      ]
    },
    {
      "cell_type": "code",
      "source": [
        "img1 = val_image[0][0].detach().cpu().numpy()[0].reshape([func.shape[0],func.shape[1],func.shape[2],func.shape[3]])"
      ],
      "metadata": {
        "colab": {
          "base_uri": "https://localhost:8080/",
          "height": 184
        },
        "id": "Gzdz24b6gFkZ",
        "outputId": "e73675fa-f135-405e-ee4e-ce4d670ad0a0"
      },
      "execution_count": null,
      "outputs": [
        {
          "output_type": "error",
          "ename": "ValueError",
          "evalue": "ignored",
          "traceback": [
            "\u001b[0;31m---------------------------------------------------------------------------\u001b[0m",
            "\u001b[0;31mValueError\u001b[0m                                Traceback (most recent call last)",
            "\u001b[0;32m<ipython-input-48-0cdedc1aa8c4>\u001b[0m in \u001b[0;36m<module>\u001b[0;34m()\u001b[0m\n\u001b[0;32m----> 1\u001b[0;31m \u001b[0mimg1\u001b[0m \u001b[0;34m=\u001b[0m \u001b[0mval_image\u001b[0m\u001b[0;34m[\u001b[0m\u001b[0;36m0\u001b[0m\u001b[0;34m]\u001b[0m\u001b[0;34m[\u001b[0m\u001b[0;36m0\u001b[0m\u001b[0;34m]\u001b[0m\u001b[0;34m.\u001b[0m\u001b[0mdetach\u001b[0m\u001b[0;34m(\u001b[0m\u001b[0;34m)\u001b[0m\u001b[0;34m.\u001b[0m\u001b[0mcpu\u001b[0m\u001b[0;34m(\u001b[0m\u001b[0;34m)\u001b[0m\u001b[0;34m.\u001b[0m\u001b[0mnumpy\u001b[0m\u001b[0;34m(\u001b[0m\u001b[0;34m)\u001b[0m\u001b[0;34m[\u001b[0m\u001b[0;36m0\u001b[0m\u001b[0;34m]\u001b[0m\u001b[0;34m.\u001b[0m\u001b[0mreshape\u001b[0m\u001b[0;34m(\u001b[0m\u001b[0;34m[\u001b[0m\u001b[0mfunc\u001b[0m\u001b[0;34m.\u001b[0m\u001b[0mshape\u001b[0m\u001b[0;34m[\u001b[0m\u001b[0;36m0\u001b[0m\u001b[0;34m]\u001b[0m\u001b[0;34m,\u001b[0m\u001b[0mfunc\u001b[0m\u001b[0;34m.\u001b[0m\u001b[0mshape\u001b[0m\u001b[0;34m[\u001b[0m\u001b[0;36m1\u001b[0m\u001b[0;34m]\u001b[0m\u001b[0;34m,\u001b[0m\u001b[0mfunc\u001b[0m\u001b[0;34m.\u001b[0m\u001b[0mshape\u001b[0m\u001b[0;34m[\u001b[0m\u001b[0;36m2\u001b[0m\u001b[0;34m]\u001b[0m\u001b[0;34m,\u001b[0m\u001b[0mfunc\u001b[0m\u001b[0;34m.\u001b[0m\u001b[0mshape\u001b[0m\u001b[0;34m[\u001b[0m\u001b[0;36m3\u001b[0m\u001b[0;34m]\u001b[0m\u001b[0;34m]\u001b[0m\u001b[0;34m)\u001b[0m\u001b[0;34m\u001b[0m\u001b[0;34m\u001b[0m\u001b[0m\n\u001b[0m",
            "\u001b[0;31mValueError\u001b[0m: cannot reshape array of size 156 into shape (49,62,48,156)"
          ]
        }
      ]
    },
    {
      "cell_type": "code",
      "source": [
        "print(val_image[0][0])\n",
        "plt.figure(figsize = (16,16))\n",
        "plt.subplot(2,2,1)\n",
        "plt.imshow(val_image[0][0].detach().cpu().numpy()[:,0],cmap='gray')\n",
        "plt.subplot(2,2,2)\n",
        "plt.imshow(val_image[0][1].detach().cpu().numpy()[:,0],cmap='gray')\n",
        "plt.subplot(2,2,3)\n",
        "plt.imshow(val_image[1][0].detach().cpu().numpy()[:,0],cmap='gray')\n",
        "plt.subplot(2,2,4)\n",
        "plt.imshow(val_image[1][1].detach().cpu().numpy()[:,0],cmap='gray')"
      ],
      "metadata": {
        "id": "xQeDqvV-RHUm",
        "colab": {
          "base_uri": "https://localhost:8080/",
          "height": 950
        },
        "outputId": "ea60e6cb-a59a-48bb-f834-ef59b0272337"
      },
      "execution_count": null,
      "outputs": [
        {
          "output_type": "stream",
          "name": "stdout",
          "text": [
            "tensor([[361.9641, 346.9181, 347.5112,  ..., 358.1633, 359.4222, 353.0915],\n",
            "        [359.2648, 362.8114, 362.9567,  ..., 357.1707, 356.7228, 360.1242],\n",
            "        [398.7621, 402.0303, 409.9225,  ..., 412.9608, 408.2279, 414.5949],\n",
            "        ...,\n",
            "        [347.0634, 347.0028, 345.8045,  ..., 342.8267, 344.2067, 348.3101],\n",
            "        [323.2294, 321.5590, 318.5933,  ..., 318.1818, 328.7854, 321.0869],\n",
            "        [375.6665, 377.1191, 379.9395,  ..., 371.5752, 376.8165, 375.0734]],\n",
            "       dtype=torch.float64)\n"
          ]
        },
        {
          "output_type": "error",
          "ename": "TypeError",
          "evalue": "ignored",
          "traceback": [
            "\u001b[0;31m---------------------------------------------------------------------------\u001b[0m",
            "\u001b[0;31mTypeError\u001b[0m                                 Traceback (most recent call last)",
            "\u001b[0;32m<ipython-input-53-9398c386ad51>\u001b[0m in \u001b[0;36m<module>\u001b[0;34m()\u001b[0m\n\u001b[1;32m      2\u001b[0m \u001b[0mplt\u001b[0m\u001b[0;34m.\u001b[0m\u001b[0mfigure\u001b[0m\u001b[0;34m(\u001b[0m\u001b[0mfigsize\u001b[0m \u001b[0;34m=\u001b[0m \u001b[0;34m(\u001b[0m\u001b[0;36m16\u001b[0m\u001b[0;34m,\u001b[0m\u001b[0;36m16\u001b[0m\u001b[0;34m)\u001b[0m\u001b[0;34m)\u001b[0m\u001b[0;34m\u001b[0m\u001b[0;34m\u001b[0m\u001b[0m\n\u001b[1;32m      3\u001b[0m \u001b[0mplt\u001b[0m\u001b[0;34m.\u001b[0m\u001b[0msubplot\u001b[0m\u001b[0;34m(\u001b[0m\u001b[0;36m2\u001b[0m\u001b[0;34m,\u001b[0m\u001b[0;36m2\u001b[0m\u001b[0;34m,\u001b[0m\u001b[0;36m1\u001b[0m\u001b[0;34m)\u001b[0m\u001b[0;34m\u001b[0m\u001b[0;34m\u001b[0m\u001b[0m\n\u001b[0;32m----> 4\u001b[0;31m \u001b[0mplt\u001b[0m\u001b[0;34m.\u001b[0m\u001b[0mimshow\u001b[0m\u001b[0;34m(\u001b[0m\u001b[0mval_image\u001b[0m\u001b[0;34m[\u001b[0m\u001b[0;36m0\u001b[0m\u001b[0;34m]\u001b[0m\u001b[0;34m[\u001b[0m\u001b[0;36m0\u001b[0m\u001b[0;34m]\u001b[0m\u001b[0;34m.\u001b[0m\u001b[0mdetach\u001b[0m\u001b[0;34m(\u001b[0m\u001b[0;34m)\u001b[0m\u001b[0;34m.\u001b[0m\u001b[0mcpu\u001b[0m\u001b[0;34m(\u001b[0m\u001b[0;34m)\u001b[0m\u001b[0;34m.\u001b[0m\u001b[0mnumpy\u001b[0m\u001b[0;34m(\u001b[0m\u001b[0;34m)\u001b[0m\u001b[0;34m[\u001b[0m\u001b[0;34m:\u001b[0m\u001b[0;34m,\u001b[0m\u001b[0;36m0\u001b[0m\u001b[0;34m]\u001b[0m\u001b[0;34m,\u001b[0m\u001b[0mcmap\u001b[0m\u001b[0;34m=\u001b[0m\u001b[0;34m'gray'\u001b[0m\u001b[0;34m)\u001b[0m\u001b[0;34m\u001b[0m\u001b[0;34m\u001b[0m\u001b[0m\n\u001b[0m\u001b[1;32m      5\u001b[0m \u001b[0mplt\u001b[0m\u001b[0;34m.\u001b[0m\u001b[0msubplot\u001b[0m\u001b[0;34m(\u001b[0m\u001b[0;36m2\u001b[0m\u001b[0;34m,\u001b[0m\u001b[0;36m2\u001b[0m\u001b[0;34m,\u001b[0m\u001b[0;36m2\u001b[0m\u001b[0;34m)\u001b[0m\u001b[0;34m\u001b[0m\u001b[0;34m\u001b[0m\u001b[0m\n\u001b[1;32m      6\u001b[0m \u001b[0mplt\u001b[0m\u001b[0;34m.\u001b[0m\u001b[0mimshow\u001b[0m\u001b[0;34m(\u001b[0m\u001b[0mval_image\u001b[0m\u001b[0;34m[\u001b[0m\u001b[0;36m0\u001b[0m\u001b[0;34m]\u001b[0m\u001b[0;34m[\u001b[0m\u001b[0;36m1\u001b[0m\u001b[0;34m]\u001b[0m\u001b[0;34m.\u001b[0m\u001b[0mdetach\u001b[0m\u001b[0;34m(\u001b[0m\u001b[0;34m)\u001b[0m\u001b[0;34m.\u001b[0m\u001b[0mcpu\u001b[0m\u001b[0;34m(\u001b[0m\u001b[0;34m)\u001b[0m\u001b[0;34m.\u001b[0m\u001b[0mnumpy\u001b[0m\u001b[0;34m(\u001b[0m\u001b[0;34m)\u001b[0m\u001b[0;34m[\u001b[0m\u001b[0;34m:\u001b[0m\u001b[0;34m,\u001b[0m\u001b[0;36m0\u001b[0m\u001b[0;34m]\u001b[0m\u001b[0;34m,\u001b[0m\u001b[0mcmap\u001b[0m\u001b[0;34m=\u001b[0m\u001b[0;34m'gray'\u001b[0m\u001b[0;34m)\u001b[0m\u001b[0;34m\u001b[0m\u001b[0;34m\u001b[0m\u001b[0m\n",
            "\u001b[0;32m/usr/local/lib/python3.7/dist-packages/matplotlib/pyplot.py\u001b[0m in \u001b[0;36mimshow\u001b[0;34m(X, cmap, norm, aspect, interpolation, alpha, vmin, vmax, origin, extent, shape, filternorm, filterrad, imlim, resample, url, data, **kwargs)\u001b[0m\n\u001b[1;32m   2649\u001b[0m         \u001b[0mfilternorm\u001b[0m\u001b[0;34m=\u001b[0m\u001b[0mfilternorm\u001b[0m\u001b[0;34m,\u001b[0m \u001b[0mfilterrad\u001b[0m\u001b[0;34m=\u001b[0m\u001b[0mfilterrad\u001b[0m\u001b[0;34m,\u001b[0m \u001b[0mimlim\u001b[0m\u001b[0;34m=\u001b[0m\u001b[0mimlim\u001b[0m\u001b[0;34m,\u001b[0m\u001b[0;34m\u001b[0m\u001b[0;34m\u001b[0m\u001b[0m\n\u001b[1;32m   2650\u001b[0m         resample=resample, url=url, **({\"data\": data} if data is not\n\u001b[0;32m-> 2651\u001b[0;31m         None else {}), **kwargs)\n\u001b[0m\u001b[1;32m   2652\u001b[0m     \u001b[0msci\u001b[0m\u001b[0;34m(\u001b[0m\u001b[0m__ret\u001b[0m\u001b[0;34m)\u001b[0m\u001b[0;34m\u001b[0m\u001b[0;34m\u001b[0m\u001b[0m\n\u001b[1;32m   2653\u001b[0m     \u001b[0;32mreturn\u001b[0m \u001b[0m__ret\u001b[0m\u001b[0;34m\u001b[0m\u001b[0;34m\u001b[0m\u001b[0m\n",
            "\u001b[0;32m/usr/local/lib/python3.7/dist-packages/matplotlib/__init__.py\u001b[0m in \u001b[0;36minner\u001b[0;34m(ax, data, *args, **kwargs)\u001b[0m\n\u001b[1;32m   1563\u001b[0m     \u001b[0;32mdef\u001b[0m \u001b[0minner\u001b[0m\u001b[0;34m(\u001b[0m\u001b[0max\u001b[0m\u001b[0;34m,\u001b[0m \u001b[0;34m*\u001b[0m\u001b[0margs\u001b[0m\u001b[0;34m,\u001b[0m \u001b[0mdata\u001b[0m\u001b[0;34m=\u001b[0m\u001b[0;32mNone\u001b[0m\u001b[0;34m,\u001b[0m \u001b[0;34m**\u001b[0m\u001b[0mkwargs\u001b[0m\u001b[0;34m)\u001b[0m\u001b[0;34m:\u001b[0m\u001b[0;34m\u001b[0m\u001b[0;34m\u001b[0m\u001b[0m\n\u001b[1;32m   1564\u001b[0m         \u001b[0;32mif\u001b[0m \u001b[0mdata\u001b[0m \u001b[0;32mis\u001b[0m \u001b[0;32mNone\u001b[0m\u001b[0;34m:\u001b[0m\u001b[0;34m\u001b[0m\u001b[0;34m\u001b[0m\u001b[0m\n\u001b[0;32m-> 1565\u001b[0;31m             \u001b[0;32mreturn\u001b[0m \u001b[0mfunc\u001b[0m\u001b[0;34m(\u001b[0m\u001b[0max\u001b[0m\u001b[0;34m,\u001b[0m \u001b[0;34m*\u001b[0m\u001b[0mmap\u001b[0m\u001b[0;34m(\u001b[0m\u001b[0msanitize_sequence\u001b[0m\u001b[0;34m,\u001b[0m \u001b[0margs\u001b[0m\u001b[0;34m)\u001b[0m\u001b[0;34m,\u001b[0m \u001b[0;34m**\u001b[0m\u001b[0mkwargs\u001b[0m\u001b[0;34m)\u001b[0m\u001b[0;34m\u001b[0m\u001b[0;34m\u001b[0m\u001b[0m\n\u001b[0m\u001b[1;32m   1566\u001b[0m \u001b[0;34m\u001b[0m\u001b[0m\n\u001b[1;32m   1567\u001b[0m         \u001b[0mbound\u001b[0m \u001b[0;34m=\u001b[0m \u001b[0mnew_sig\u001b[0m\u001b[0;34m.\u001b[0m\u001b[0mbind\u001b[0m\u001b[0;34m(\u001b[0m\u001b[0max\u001b[0m\u001b[0;34m,\u001b[0m \u001b[0;34m*\u001b[0m\u001b[0margs\u001b[0m\u001b[0;34m,\u001b[0m \u001b[0;34m**\u001b[0m\u001b[0mkwargs\u001b[0m\u001b[0;34m)\u001b[0m\u001b[0;34m\u001b[0m\u001b[0;34m\u001b[0m\u001b[0m\n",
            "\u001b[0;32m/usr/local/lib/python3.7/dist-packages/matplotlib/cbook/deprecation.py\u001b[0m in \u001b[0;36mwrapper\u001b[0;34m(*args, **kwargs)\u001b[0m\n\u001b[1;32m    356\u001b[0m                 \u001b[0;34mf\"%(removal)s.  If any parameter follows {name!r}, they \"\u001b[0m\u001b[0;34m\u001b[0m\u001b[0;34m\u001b[0m\u001b[0m\n\u001b[1;32m    357\u001b[0m                 f\"should be pass as keyword, not positionally.\")\n\u001b[0;32m--> 358\u001b[0;31m         \u001b[0;32mreturn\u001b[0m \u001b[0mfunc\u001b[0m\u001b[0;34m(\u001b[0m\u001b[0;34m*\u001b[0m\u001b[0margs\u001b[0m\u001b[0;34m,\u001b[0m \u001b[0;34m**\u001b[0m\u001b[0mkwargs\u001b[0m\u001b[0;34m)\u001b[0m\u001b[0;34m\u001b[0m\u001b[0;34m\u001b[0m\u001b[0m\n\u001b[0m\u001b[1;32m    359\u001b[0m \u001b[0;34m\u001b[0m\u001b[0m\n\u001b[1;32m    360\u001b[0m     \u001b[0;32mreturn\u001b[0m \u001b[0mwrapper\u001b[0m\u001b[0;34m\u001b[0m\u001b[0;34m\u001b[0m\u001b[0m\n",
            "\u001b[0;32m/usr/local/lib/python3.7/dist-packages/matplotlib/cbook/deprecation.py\u001b[0m in \u001b[0;36mwrapper\u001b[0;34m(*args, **kwargs)\u001b[0m\n\u001b[1;32m    356\u001b[0m                 \u001b[0;34mf\"%(removal)s.  If any parameter follows {name!r}, they \"\u001b[0m\u001b[0;34m\u001b[0m\u001b[0;34m\u001b[0m\u001b[0m\n\u001b[1;32m    357\u001b[0m                 f\"should be pass as keyword, not positionally.\")\n\u001b[0;32m--> 358\u001b[0;31m         \u001b[0;32mreturn\u001b[0m \u001b[0mfunc\u001b[0m\u001b[0;34m(\u001b[0m\u001b[0;34m*\u001b[0m\u001b[0margs\u001b[0m\u001b[0;34m,\u001b[0m \u001b[0;34m**\u001b[0m\u001b[0mkwargs\u001b[0m\u001b[0;34m)\u001b[0m\u001b[0;34m\u001b[0m\u001b[0;34m\u001b[0m\u001b[0m\n\u001b[0m\u001b[1;32m    359\u001b[0m \u001b[0;34m\u001b[0m\u001b[0m\n\u001b[1;32m    360\u001b[0m     \u001b[0;32mreturn\u001b[0m \u001b[0mwrapper\u001b[0m\u001b[0;34m\u001b[0m\u001b[0;34m\u001b[0m\u001b[0m\n",
            "\u001b[0;32m/usr/local/lib/python3.7/dist-packages/matplotlib/axes/_axes.py\u001b[0m in \u001b[0;36mimshow\u001b[0;34m(self, X, cmap, norm, aspect, interpolation, alpha, vmin, vmax, origin, extent, shape, filternorm, filterrad, imlim, resample, url, **kwargs)\u001b[0m\n\u001b[1;32m   5624\u001b[0m                               resample=resample, **kwargs)\n\u001b[1;32m   5625\u001b[0m \u001b[0;34m\u001b[0m\u001b[0m\n\u001b[0;32m-> 5626\u001b[0;31m         \u001b[0mim\u001b[0m\u001b[0;34m.\u001b[0m\u001b[0mset_data\u001b[0m\u001b[0;34m(\u001b[0m\u001b[0mX\u001b[0m\u001b[0;34m)\u001b[0m\u001b[0;34m\u001b[0m\u001b[0;34m\u001b[0m\u001b[0m\n\u001b[0m\u001b[1;32m   5627\u001b[0m         \u001b[0mim\u001b[0m\u001b[0;34m.\u001b[0m\u001b[0mset_alpha\u001b[0m\u001b[0;34m(\u001b[0m\u001b[0malpha\u001b[0m\u001b[0;34m)\u001b[0m\u001b[0;34m\u001b[0m\u001b[0;34m\u001b[0m\u001b[0m\n\u001b[1;32m   5628\u001b[0m         \u001b[0;32mif\u001b[0m \u001b[0mim\u001b[0m\u001b[0;34m.\u001b[0m\u001b[0mget_clip_path\u001b[0m\u001b[0;34m(\u001b[0m\u001b[0;34m)\u001b[0m \u001b[0;32mis\u001b[0m \u001b[0;32mNone\u001b[0m\u001b[0;34m:\u001b[0m\u001b[0;34m\u001b[0m\u001b[0;34m\u001b[0m\u001b[0m\n",
            "\u001b[0;32m/usr/local/lib/python3.7/dist-packages/matplotlib/image.py\u001b[0m in \u001b[0;36mset_data\u001b[0;34m(self, A)\u001b[0m\n\u001b[1;32m    697\u001b[0m                 or self._A.ndim == 3 and self._A.shape[-1] in [3, 4]):\n\u001b[1;32m    698\u001b[0m             raise TypeError(\"Invalid shape {} for image data\"\n\u001b[0;32m--> 699\u001b[0;31m                             .format(self._A.shape))\n\u001b[0m\u001b[1;32m    700\u001b[0m \u001b[0;34m\u001b[0m\u001b[0m\n\u001b[1;32m    701\u001b[0m         \u001b[0;32mif\u001b[0m \u001b[0mself\u001b[0m\u001b[0;34m.\u001b[0m\u001b[0m_A\u001b[0m\u001b[0;34m.\u001b[0m\u001b[0mndim\u001b[0m \u001b[0;34m==\u001b[0m \u001b[0;36m3\u001b[0m\u001b[0;34m:\u001b[0m\u001b[0;34m\u001b[0m\u001b[0;34m\u001b[0m\u001b[0m\n",
            "\u001b[0;31mTypeError\u001b[0m: Invalid shape (64,) for image data"
          ]
        },
        {
          "output_type": "display_data",
          "data": {
            "text/plain": [
              "<Figure size 1152x1152 with 1 Axes>"
            ],
            "image/png": "[encoded data removed]"
          },
          "metadata": {
            "needs_background": "light"
          }
        }
      ]
    }
  ]
}